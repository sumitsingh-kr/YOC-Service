{
 "cells": [
  {
   "cell_type": "markdown",
   "id": "a409c349",
   "metadata": {},
   "source": [
    "# Data Analysis on YOC start-up "
   ]
  },
  {
   "cell_type": "markdown",
   "id": "427727c4",
   "metadata": {},
   "source": [
    "## YOC is a cab riding start-up  named Your Own Cab which had launched its project in Jan 2020. Now we are having one year of data and will do some analysis to check the performance in its first year of business.           "
   ]
  },
  {
   "cell_type": "code",
   "execution_count": 147,
   "id": "f40a2f31",
   "metadata": {},
   "outputs": [],
   "source": [
    "from pyspark.sql import SparkSession\n",
    "from pyspark.sql.types import *\n",
    "from pyspark.sql.functions import * \n",
    "import pandas as pd"
   ]
  },
  {
   "cell_type": "code",
   "execution_count": null,
   "id": "4ebf91b9",
   "metadata": {},
   "outputs": [],
   "source": []
  },
  {
   "cell_type": "code",
   "execution_count": 4,
   "id": "98e0bd3a",
   "metadata": {},
   "outputs": [
    {
     "name": "stderr",
     "output_type": "stream",
     "text": [
      "Setting default log level to \"WARN\".\n",
      "To adjust logging level use sc.setLogLevel(newLevel). For SparkR, use setLogLevel(newLevel).\n",
      "2022-01-15 17:55:54,633 WARN util.NativeCodeLoader: Unable to load native-hadoop library for your platform... using builtin-java classes where applicable\n"
     ]
    }
   ],
   "source": [
    "spark = SparkSession.builder.appName(\"yoc_project\").getOrCreate()"
   ]
  },
  {
   "cell_type": "markdown",
   "id": "aa4da929",
   "metadata": {},
   "source": [
    "### Creating the Schema for Bookings and Clickstream data"
   ]
  },
  {
   "cell_type": "code",
   "execution_count": 5,
   "id": "b01b12d5",
   "metadata": {},
   "outputs": [],
   "source": [
    "bookings_schema = StructType([\\\n",
    "                              StructField('booking_id',StringType(),True),\\\n",
    "                              StructField('customer_id',IntegerType(),True),\\\n",
    "                              StructField('driver_id',IntegerType(),True),\\\n",
    "                              StructField('customer_app_version',StringType(),True),\\\n",
    "                              StructField('customer_phone_os_version',StringType(),True),\\\n",
    "                              StructField('pickup_lat',DoubleType(),True),\\\n",
    "                              StructField('pickup_lon',DoubleType(),True),\\\n",
    "                              StructField('drop_lat',DoubleType(),True),\\\n",
    "                              StructField('drop_lon',DoubleType(),True),\\\n",
    "                              StructField('pickup_timestamp',StringType(),True),\\\n",
    "                              StructField('drop_timestamp',StringType(),True),\\\n",
    "                              StructField('trip_fare',FloatType(),True),\\\n",
    "                              StructField('tip_amount',FloatType(),True),\\\n",
    "                              StructField('currency_code',StringType(),True),\\\n",
    "                              StructField('cab_color',StringType(),True),\\\n",
    "                              StructField('cab_registration_no',StringType(),True),\\\n",
    "                              StructField('customer_rating_by_driver',IntegerType(),True),\\\n",
    "                              StructField('rating_by_customer',IntegerType(),True),\\\n",
    "                              StructField('passenger_count',IntegerType(),True)])\n",
    "    \n"
   ]
  },
  {
   "cell_type": "code",
   "execution_count": 6,
   "id": "0ce6d71e",
   "metadata": {},
   "outputs": [],
   "source": [
    "clickstream_schema = StructType([StructField('customer_id',IntegerType(),True),\\\n",
    "                              StructField('app_version',StringType(),True),\\\n",
    "                              StructField('OS_version',StringType(),True),\\\n",
    "                              StructField('lat',DoubleType(),True),\\\n",
    "                              StructField('lon',DoubleType(),True),\\\n",
    "                              StructField('page_id',StringType(),True),\\\n",
    "                              StructField('button_id',StringType(),True),\\\n",
    "                              StructField('is_button_click',StringType(),True),\\\n",
    "                              StructField('is_page_view',StringType(),True),\\\n",
    "                              StructField('is_scroll_up',StringType(),True),\\\n",
    "                              StructField('is_scroll_down',StringType(),True),\\\n",
    "                              StructField('timestamp',StringType(),True)])"
   ]
  },
  {
   "cell_type": "markdown",
   "id": "ae2b0d04",
   "metadata": {},
   "source": [
    "### Loading bookings and clickstream data from hdfs to spark"
   ]
  },
  {
   "cell_type": "code",
   "execution_count": 7,
   "id": "ae4a64f7",
   "metadata": {},
   "outputs": [],
   "source": [
    "bookings=spark.read.format('csv').schema(bookings_schema).load(\"hdfs://localhost:54310/yoc_project/bookings/part*\")"
   ]
  },
  {
   "cell_type": "code",
   "execution_count": 8,
   "id": "29b07ffb",
   "metadata": {},
   "outputs": [],
   "source": [
    "clickstream=spark.read.\\\n",
    "csv(\"hdfs://localhost:54310/yoc_project/clickstream/clickstream.csv\",header=False,schema=clickstream_schema)"
   ]
  },
  {
   "cell_type": "markdown",
   "id": "1904ad11",
   "metadata": {},
   "source": [
    "# Take a glance at bookings data"
   ]
  },
  {
   "cell_type": "code",
   "execution_count": 11,
   "id": "18d958c5",
   "metadata": {},
   "outputs": [
    {
     "data": {
      "text/plain": [
       "['booking_id',\n",
       " 'customer_id',\n",
       " 'driver_id',\n",
       " 'customer_app_version',\n",
       " 'customer_phone_os_version',\n",
       " 'pickup_lat',\n",
       " 'pickup_lon',\n",
       " 'drop_lat',\n",
       " 'drop_lon',\n",
       " 'pickup_timestamp',\n",
       " 'drop_timestamp',\n",
       " 'trip_fare',\n",
       " 'tip_amount',\n",
       " 'currency_code',\n",
       " 'cab_color',\n",
       " 'cab_registration_no',\n",
       " 'customer_rating_by_driver',\n",
       " 'rating_by_customer',\n",
       " 'passenger_count']"
      ]
     },
     "execution_count": 11,
     "metadata": {},
     "output_type": "execute_result"
    }
   ],
   "source": [
    "bookings.columns\n"
   ]
  },
  {
   "cell_type": "code",
   "execution_count": 55,
   "id": "b7cceca4",
   "metadata": {},
   "outputs": [
    {
     "data": {
      "text/html": [
       "<div>\n",
       "<style scoped>\n",
       "    .dataframe tbody tr th:only-of-type {\n",
       "        vertical-align: middle;\n",
       "    }\n",
       "\n",
       "    .dataframe tbody tr th {\n",
       "        vertical-align: top;\n",
       "    }\n",
       "\n",
       "    .dataframe thead th {\n",
       "        text-align: right;\n",
       "    }\n",
       "</style>\n",
       "<table border=\"1\" class=\"dataframe\">\n",
       "  <thead>\n",
       "    <tr style=\"text-align: right;\">\n",
       "      <th></th>\n",
       "      <th>summary</th>\n",
       "      <th>booking_id</th>\n",
       "      <th>customer_id</th>\n",
       "      <th>driver_id</th>\n",
       "      <th>customer_app_version</th>\n",
       "      <th>customer_phone_os_version</th>\n",
       "      <th>pickup_lat</th>\n",
       "      <th>pickup_lon</th>\n",
       "      <th>drop_lat</th>\n",
       "      <th>drop_lon</th>\n",
       "      <th>pickup_timestamp</th>\n",
       "      <th>drop_timestamp</th>\n",
       "      <th>trip_fare</th>\n",
       "      <th>tip_amount</th>\n",
       "      <th>currency_code</th>\n",
       "      <th>cab_color</th>\n",
       "      <th>cab_registration_no</th>\n",
       "      <th>customer_rating_by_driver</th>\n",
       "      <th>rating_by_customer</th>\n",
       "      <th>passenger_count</th>\n",
       "    </tr>\n",
       "  </thead>\n",
       "  <tbody>\n",
       "    <tr>\n",
       "      <th>0</th>\n",
       "      <td>count</td>\n",
       "      <td>1000</td>\n",
       "      <td>1000</td>\n",
       "      <td>1000</td>\n",
       "      <td>1000</td>\n",
       "      <td>1000</td>\n",
       "      <td>1000</td>\n",
       "      <td>1000</td>\n",
       "      <td>1000</td>\n",
       "      <td>1000</td>\n",
       "      <td>1000</td>\n",
       "      <td>1000</td>\n",
       "      <td>1000</td>\n",
       "      <td>1000</td>\n",
       "      <td>1000</td>\n",
       "      <td>1000</td>\n",
       "      <td>1000</td>\n",
       "      <td>1000</td>\n",
       "      <td>1000</td>\n",
       "      <td>1000</td>\n",
       "    </tr>\n",
       "    <tr>\n",
       "      <th>1</th>\n",
       "      <td>mean</td>\n",
       "      <td>None</td>\n",
       "      <td>5.7293605363E7</td>\n",
       "      <td>5.5185378184E7</td>\n",
       "      <td>None</td>\n",
       "      <td>None</td>\n",
       "      <td>-0.02258811399999921</td>\n",
       "      <td>0.9523736479999997</td>\n",
       "      <td>2.1092333430000005</td>\n",
       "      <td>-0.2716544600000024</td>\n",
       "      <td>None</td>\n",
       "      <td>None</td>\n",
       "      <td>512.563</td>\n",
       "      <td>51.021</td>\n",
       "      <td>None</td>\n",
       "      <td>None</td>\n",
       "      <td>None</td>\n",
       "      <td>3.037</td>\n",
       "      <td>2.968</td>\n",
       "      <td>2.534</td>\n",
       "    </tr>\n",
       "    <tr>\n",
       "      <th>2</th>\n",
       "      <td>stddev</td>\n",
       "      <td>None</td>\n",
       "      <td>2.5736510705042005E7</td>\n",
       "      <td>2.5924210489723753E7</td>\n",
       "      <td>None</td>\n",
       "      <td>None</td>\n",
       "      <td>51.503800643647814</td>\n",
       "      <td>102.77256975700413</td>\n",
       "      <td>51.09454833601444</td>\n",
       "      <td>103.63751282466721</td>\n",
       "      <td>None</td>\n",
       "      <td>None</td>\n",
       "      <td>283.22415849456564</td>\n",
       "      <td>29.12725452142641</td>\n",
       "      <td>None</td>\n",
       "      <td>None</td>\n",
       "      <td>None</td>\n",
       "      <td>1.4218483226605612</td>\n",
       "      <td>1.3967558580249182</td>\n",
       "      <td>1.1027511324229327</td>\n",
       "    </tr>\n",
       "    <tr>\n",
       "      <th>3</th>\n",
       "      <td>min</td>\n",
       "      <td>BK100000018</td>\n",
       "      <td>10022393</td>\n",
       "      <td>10041826</td>\n",
       "      <td>1.1.1</td>\n",
       "      <td>Android</td>\n",
       "      <td>-89.8118755</td>\n",
       "      <td>-179.62995</td>\n",
       "      <td>-89.9900655</td>\n",
       "      <td>-179.177221</td>\n",
       "      <td>2020-01-01 13:57:47.0</td>\n",
       "      <td>2020-01-02 04:16:57.0</td>\n",
       "      <td>25.0</td>\n",
       "      <td>1.0</td>\n",
       "      <td>INR</td>\n",
       "      <td>aqua</td>\n",
       "      <td>001-05-9678</td>\n",
       "      <td>1</td>\n",
       "      <td>1</td>\n",
       "      <td>1</td>\n",
       "    </tr>\n",
       "    <tr>\n",
       "      <th>4</th>\n",
       "      <td>max</td>\n",
       "      <td>BK9996514884</td>\n",
       "      <td>99947969</td>\n",
       "      <td>99815381</td>\n",
       "      <td>4.4.8</td>\n",
       "      <td>iOS</td>\n",
       "      <td>89.964237</td>\n",
       "      <td>179.695812</td>\n",
       "      <td>89.6034155</td>\n",
       "      <td>179.871154</td>\n",
       "      <td>2020-10-26 23:46:58.0</td>\n",
       "      <td>2020-10-27 16:12:31.0</td>\n",
       "      <td>998.0</td>\n",
       "      <td>100.0</td>\n",
       "      <td>INR</td>\n",
       "      <td>yellow</td>\n",
       "      <td>897-85-6044</td>\n",
       "      <td>5</td>\n",
       "      <td>5</td>\n",
       "      <td>4</td>\n",
       "    </tr>\n",
       "  </tbody>\n",
       "</table>\n",
       "</div>"
      ],
      "text/plain": [
       "  summary    booking_id           customer_id             driver_id  \\\n",
       "0   count          1000                  1000                  1000   \n",
       "1    mean          None        5.7293605363E7        5.5185378184E7   \n",
       "2  stddev          None  2.5736510705042005E7  2.5924210489723753E7   \n",
       "3     min   BK100000018              10022393              10041826   \n",
       "4     max  BK9996514884              99947969              99815381   \n",
       "\n",
       "  customer_app_version customer_phone_os_version            pickup_lat  \\\n",
       "0                 1000                      1000                  1000   \n",
       "1                 None                      None  -0.02258811399999921   \n",
       "2                 None                      None    51.503800643647814   \n",
       "3                1.1.1                   Android           -89.8118755   \n",
       "4                4.4.8                       iOS             89.964237   \n",
       "\n",
       "           pickup_lon            drop_lat             drop_lon  \\\n",
       "0                1000                1000                 1000   \n",
       "1  0.9523736479999997  2.1092333430000005  -0.2716544600000024   \n",
       "2  102.77256975700413   51.09454833601444   103.63751282466721   \n",
       "3          -179.62995         -89.9900655          -179.177221   \n",
       "4          179.695812          89.6034155           179.871154   \n",
       "\n",
       "        pickup_timestamp         drop_timestamp           trip_fare  \\\n",
       "0                   1000                   1000                1000   \n",
       "1                   None                   None             512.563   \n",
       "2                   None                   None  283.22415849456564   \n",
       "3  2020-01-01 13:57:47.0  2020-01-02 04:16:57.0                25.0   \n",
       "4  2020-10-26 23:46:58.0  2020-10-27 16:12:31.0               998.0   \n",
       "\n",
       "          tip_amount currency_code cab_color cab_registration_no  \\\n",
       "0               1000          1000      1000                1000   \n",
       "1             51.021          None      None                None   \n",
       "2  29.12725452142641          None      None                None   \n",
       "3                1.0           INR      aqua         001-05-9678   \n",
       "4              100.0           INR    yellow         897-85-6044   \n",
       "\n",
       "  customer_rating_by_driver  rating_by_customer     passenger_count  \n",
       "0                      1000                1000                1000  \n",
       "1                     3.037               2.968               2.534  \n",
       "2        1.4218483226605612  1.3967558580249182  1.1027511324229327  \n",
       "3                         1                   1                   1  \n",
       "4                         5                   5                   4  "
      ]
     },
     "execution_count": 55,
     "metadata": {},
     "output_type": "execute_result"
    }
   ],
   "source": [
    "bookings.describe().toPandas()"
   ]
  },
  {
   "cell_type": "markdown",
   "id": "6b2ffc9d",
   "metadata": {},
   "source": [
    "### Aggregating total bookings date-wise"
   ]
  },
  {
   "cell_type": "code",
   "execution_count": 75,
   "id": "47db0fdf",
   "metadata": {},
   "outputs": [],
   "source": [
    "aggregated_bookings=bookings.select(to_date(col('pickup_timestamp')).alias('date')).\\\n",
    "groupBy('date').agg(count(col('date')).alias('bookings')).sort('date').toPandas()"
   ]
  },
  {
   "cell_type": "code",
   "execution_count": 76,
   "id": "a0bfa426",
   "metadata": {},
   "outputs": [
    {
     "data": {
      "text/html": [
       "<div>\n",
       "<style scoped>\n",
       "    .dataframe tbody tr th:only-of-type {\n",
       "        vertical-align: middle;\n",
       "    }\n",
       "\n",
       "    .dataframe tbody tr th {\n",
       "        vertical-align: top;\n",
       "    }\n",
       "\n",
       "    .dataframe thead th {\n",
       "        text-align: right;\n",
       "    }\n",
       "</style>\n",
       "<table border=\"1\" class=\"dataframe\">\n",
       "  <thead>\n",
       "    <tr style=\"text-align: right;\">\n",
       "      <th></th>\n",
       "      <th>date</th>\n",
       "      <th>bookings</th>\n",
       "    </tr>\n",
       "  </thead>\n",
       "  <tbody>\n",
       "    <tr>\n",
       "      <th>0</th>\n",
       "      <td>2020-01-01</td>\n",
       "      <td>1</td>\n",
       "    </tr>\n",
       "    <tr>\n",
       "      <th>1</th>\n",
       "      <td>2020-01-02</td>\n",
       "      <td>3</td>\n",
       "    </tr>\n",
       "    <tr>\n",
       "      <th>2</th>\n",
       "      <td>2020-01-03</td>\n",
       "      <td>2</td>\n",
       "    </tr>\n",
       "    <tr>\n",
       "      <th>3</th>\n",
       "      <td>2020-01-04</td>\n",
       "      <td>2</td>\n",
       "    </tr>\n",
       "    <tr>\n",
       "      <th>4</th>\n",
       "      <td>2020-01-05</td>\n",
       "      <td>2</td>\n",
       "    </tr>\n",
       "    <tr>\n",
       "      <th>...</th>\n",
       "      <td>...</td>\n",
       "      <td>...</td>\n",
       "    </tr>\n",
       "    <tr>\n",
       "      <th>284</th>\n",
       "      <td>2020-10-22</td>\n",
       "      <td>3</td>\n",
       "    </tr>\n",
       "    <tr>\n",
       "      <th>285</th>\n",
       "      <td>2020-10-23</td>\n",
       "      <td>1</td>\n",
       "    </tr>\n",
       "    <tr>\n",
       "      <th>286</th>\n",
       "      <td>2020-10-24</td>\n",
       "      <td>3</td>\n",
       "    </tr>\n",
       "    <tr>\n",
       "      <th>287</th>\n",
       "      <td>2020-10-25</td>\n",
       "      <td>5</td>\n",
       "    </tr>\n",
       "    <tr>\n",
       "      <th>288</th>\n",
       "      <td>2020-10-26</td>\n",
       "      <td>6</td>\n",
       "    </tr>\n",
       "  </tbody>\n",
       "</table>\n",
       "<p>289 rows × 2 columns</p>\n",
       "</div>"
      ],
      "text/plain": [
       "           date  bookings\n",
       "0    2020-01-01         1\n",
       "1    2020-01-02         3\n",
       "2    2020-01-03         2\n",
       "3    2020-01-04         2\n",
       "4    2020-01-05         2\n",
       "..          ...       ...\n",
       "284  2020-10-22         3\n",
       "285  2020-10-23         1\n",
       "286  2020-10-24         3\n",
       "287  2020-10-25         5\n",
       "288  2020-10-26         6\n",
       "\n",
       "[289 rows x 2 columns]"
      ]
     },
     "execution_count": 76,
     "metadata": {},
     "output_type": "execute_result"
    }
   ],
   "source": [
    "aggregated_bookings"
   ]
  },
  {
   "cell_type": "markdown",
   "id": "98309511",
   "metadata": {},
   "source": [
    "### Aggregating total bookings cab_color-wise"
   ]
  },
  {
   "cell_type": "code",
   "execution_count": 82,
   "id": "af7f2994",
   "metadata": {},
   "outputs": [],
   "source": [
    "bookings_cab_color_wise=bookings.groupBy('cab_color').agg(count(col('cab_color')).alias('bookings')).toPandas()"
   ]
  },
  {
   "cell_type": "code",
   "execution_count": 83,
   "id": "aec7a7fc",
   "metadata": {},
   "outputs": [
    {
     "data": {
      "text/html": [
       "<div>\n",
       "<style scoped>\n",
       "    .dataframe tbody tr th:only-of-type {\n",
       "        vertical-align: middle;\n",
       "    }\n",
       "\n",
       "    .dataframe tbody tr th {\n",
       "        vertical-align: top;\n",
       "    }\n",
       "\n",
       "    .dataframe thead th {\n",
       "        text-align: right;\n",
       "    }\n",
       "</style>\n",
       "<table border=\"1\" class=\"dataframe\">\n",
       "  <thead>\n",
       "    <tr style=\"text-align: right;\">\n",
       "      <th></th>\n",
       "      <th>cab_color</th>\n",
       "      <th>bookings</th>\n",
       "    </tr>\n",
       "  </thead>\n",
       "  <tbody>\n",
       "    <tr>\n",
       "      <th>0</th>\n",
       "      <td>green</td>\n",
       "      <td>74</td>\n",
       "    </tr>\n",
       "    <tr>\n",
       "      <th>1</th>\n",
       "      <td>yellow</td>\n",
       "      <td>71</td>\n",
       "    </tr>\n",
       "    <tr>\n",
       "      <th>2</th>\n",
       "      <td>silver</td>\n",
       "      <td>71</td>\n",
       "    </tr>\n",
       "    <tr>\n",
       "      <th>3</th>\n",
       "      <td>purple</td>\n",
       "      <td>68</td>\n",
       "    </tr>\n",
       "    <tr>\n",
       "      <th>4</th>\n",
       "      <td>white</td>\n",
       "      <td>74</td>\n",
       "    </tr>\n",
       "    <tr>\n",
       "      <th>5</th>\n",
       "      <td>gray</td>\n",
       "      <td>61</td>\n",
       "    </tr>\n",
       "    <tr>\n",
       "      <th>6</th>\n",
       "      <td>lime</td>\n",
       "      <td>53</td>\n",
       "    </tr>\n",
       "    <tr>\n",
       "      <th>7</th>\n",
       "      <td>aqua</td>\n",
       "      <td>61</td>\n",
       "    </tr>\n",
       "    <tr>\n",
       "      <th>8</th>\n",
       "      <td>maroon</td>\n",
       "      <td>70</td>\n",
       "    </tr>\n",
       "    <tr>\n",
       "      <th>9</th>\n",
       "      <td>olive</td>\n",
       "      <td>70</td>\n",
       "    </tr>\n",
       "    <tr>\n",
       "      <th>10</th>\n",
       "      <td>navy</td>\n",
       "      <td>58</td>\n",
       "    </tr>\n",
       "    <tr>\n",
       "      <th>11</th>\n",
       "      <td>black</td>\n",
       "      <td>72</td>\n",
       "    </tr>\n",
       "    <tr>\n",
       "      <th>12</th>\n",
       "      <td>fuchsia</td>\n",
       "      <td>68</td>\n",
       "    </tr>\n",
       "    <tr>\n",
       "      <th>13</th>\n",
       "      <td>blue</td>\n",
       "      <td>64</td>\n",
       "    </tr>\n",
       "    <tr>\n",
       "      <th>14</th>\n",
       "      <td>teal</td>\n",
       "      <td>65</td>\n",
       "    </tr>\n",
       "  </tbody>\n",
       "</table>\n",
       "</div>"
      ],
      "text/plain": [
       "   cab_color  bookings\n",
       "0      green        74\n",
       "1     yellow        71\n",
       "2     silver        71\n",
       "3     purple        68\n",
       "4      white        74\n",
       "5       gray        61\n",
       "6       lime        53\n",
       "7       aqua        61\n",
       "8     maroon        70\n",
       "9      olive        70\n",
       "10      navy        58\n",
       "11     black        72\n",
       "12   fuchsia        68\n",
       "13      blue        64\n",
       "14      teal        65"
      ]
     },
     "execution_count": 83,
     "metadata": {},
     "output_type": "execute_result"
    }
   ],
   "source": [
    "bookings_cab_color_wise"
   ]
  },
  {
   "cell_type": "code",
   "execution_count": 116,
   "id": "9d1027cd",
   "metadata": {},
   "outputs": [
    {
     "data": {
      "application/javascript": [
       "\n",
       "        if (window._pyforest_update_imports_cell) { window._pyforest_update_imports_cell('import matplotlib.pyplot as plt'); }\n",
       "    "
      ],
      "text/plain": [
       "<IPython.core.display.Javascript object>"
      ]
     },
     "metadata": {},
     "output_type": "display_data"
    },
    {
     "data": {
      "application/javascript": [
       "\n",
       "        if (window._pyforest_update_imports_cell) { window._pyforest_update_imports_cell('import matplotlib.pyplot as plt'); }\n",
       "    "
      ],
      "text/plain": [
       "<IPython.core.display.Javascript object>"
      ]
     },
     "metadata": {},
     "output_type": "display_data"
    },
    {
     "data": {
      "application/javascript": [
       "\n",
       "        if (window._pyforest_update_imports_cell) { window._pyforest_update_imports_cell('import matplotlib.pyplot as plt'); }\n",
       "    "
      ],
      "text/plain": [
       "<IPython.core.display.Javascript object>"
      ]
     },
     "metadata": {},
     "output_type": "display_data"
    },
    {
     "data": {
      "application/javascript": [
       "\n",
       "        if (window._pyforest_update_imports_cell) { window._pyforest_update_imports_cell('import matplotlib.pyplot as plt'); }\n",
       "    "
      ],
      "text/plain": [
       "<IPython.core.display.Javascript object>"
      ]
     },
     "metadata": {},
     "output_type": "display_data"
    },
    {
     "data": {
      "application/javascript": [
       "\n",
       "        if (window._pyforest_update_imports_cell) { window._pyforest_update_imports_cell('import matplotlib.pyplot as plt'); }\n",
       "    "
      ],
      "text/plain": [
       "<IPython.core.display.Javascript object>"
      ]
     },
     "metadata": {},
     "output_type": "display_data"
    },
    {
     "data": {
      "text/plain": [
       "Text(0.5, 1.0, 'Color-Wise Cab Bookings')"
      ]
     },
     "execution_count": 116,
     "metadata": {},
     "output_type": "execute_result"
    },
    {
     "data": {
      "image/png": "[encoded data removed]",
      "text/plain": [
       "<Figure size 1080x360 with 1 Axes>"
      ]
     },
     "metadata": {
      "needs_background": "light"
     },
     "output_type": "display_data"
    }
   ],
   "source": [
    "fig, ax =plt.subplots(figsize=(15,5))\n",
    "plt.bar(bookings_cab_color_wise['cab_color'],bookings_cab_color_wise['bookings'],\\\n",
    "        width=0.5,color=bookings_cab_color_wise['cab_color'],edgecolor='black')\n",
    "plt.xlabel('Cab Color',fontsize=12)\n",
    "plt.ylabel('Total No. of Bookings',fontsize=12)\n",
    "plt.title('Color-Wise Cab Bookings',fontsize=20)"
   ]
  },
  {
   "cell_type": "markdown",
   "id": "3e98c417",
   "metadata": {},
   "source": [
    "### Aggregating bookings month and cab_color-wise"
   ]
  },
  {
   "cell_type": "code",
   "execution_count": 117,
   "id": "81e68b16",
   "metadata": {},
   "outputs": [],
   "source": [
    "bookings_month_cab_color_wise=bookings.select((date_format(to_date(col('pickup_timestamp')),'yyyy-MM')).alias('month'),'cab_color').\\\n",
    "groupBy('month','cab_color').count().sort('month').toPandas()"
   ]
  },
  {
   "cell_type": "code",
   "execution_count": 118,
   "id": "54cac153",
   "metadata": {},
   "outputs": [
    {
     "data": {
      "text/html": [
       "<div>\n",
       "<style scoped>\n",
       "    .dataframe tbody tr th:only-of-type {\n",
       "        vertical-align: middle;\n",
       "    }\n",
       "\n",
       "    .dataframe tbody tr th {\n",
       "        vertical-align: top;\n",
       "    }\n",
       "\n",
       "    .dataframe thead th {\n",
       "        text-align: right;\n",
       "    }\n",
       "</style>\n",
       "<table border=\"1\" class=\"dataframe\">\n",
       "  <thead>\n",
       "    <tr style=\"text-align: right;\">\n",
       "      <th></th>\n",
       "      <th>month</th>\n",
       "      <th>cab_color</th>\n",
       "      <th>count</th>\n",
       "    </tr>\n",
       "  </thead>\n",
       "  <tbody>\n",
       "    <tr>\n",
       "      <th>0</th>\n",
       "      <td>2020-01</td>\n",
       "      <td>lime</td>\n",
       "      <td>6</td>\n",
       "    </tr>\n",
       "    <tr>\n",
       "      <th>1</th>\n",
       "      <td>2020-01</td>\n",
       "      <td>yellow</td>\n",
       "      <td>4</td>\n",
       "    </tr>\n",
       "    <tr>\n",
       "      <th>2</th>\n",
       "      <td>2020-01</td>\n",
       "      <td>olive</td>\n",
       "      <td>5</td>\n",
       "    </tr>\n",
       "    <tr>\n",
       "      <th>3</th>\n",
       "      <td>2020-01</td>\n",
       "      <td>purple</td>\n",
       "      <td>5</td>\n",
       "    </tr>\n",
       "    <tr>\n",
       "      <th>4</th>\n",
       "      <td>2020-01</td>\n",
       "      <td>blue</td>\n",
       "      <td>9</td>\n",
       "    </tr>\n",
       "    <tr>\n",
       "      <th>...</th>\n",
       "      <td>...</td>\n",
       "      <td>...</td>\n",
       "      <td>...</td>\n",
       "    </tr>\n",
       "    <tr>\n",
       "      <th>144</th>\n",
       "      <td>2020-10</td>\n",
       "      <td>maroon</td>\n",
       "      <td>7</td>\n",
       "    </tr>\n",
       "    <tr>\n",
       "      <th>145</th>\n",
       "      <td>2020-10</td>\n",
       "      <td>blue</td>\n",
       "      <td>2</td>\n",
       "    </tr>\n",
       "    <tr>\n",
       "      <th>146</th>\n",
       "      <td>2020-10</td>\n",
       "      <td>white</td>\n",
       "      <td>5</td>\n",
       "    </tr>\n",
       "    <tr>\n",
       "      <th>147</th>\n",
       "      <td>2020-10</td>\n",
       "      <td>gray</td>\n",
       "      <td>3</td>\n",
       "    </tr>\n",
       "    <tr>\n",
       "      <th>148</th>\n",
       "      <td>2020-10</td>\n",
       "      <td>olive</td>\n",
       "      <td>6</td>\n",
       "    </tr>\n",
       "  </tbody>\n",
       "</table>\n",
       "<p>149 rows × 3 columns</p>\n",
       "</div>"
      ],
      "text/plain": [
       "       month cab_color  count\n",
       "0    2020-01      lime      6\n",
       "1    2020-01    yellow      4\n",
       "2    2020-01     olive      5\n",
       "3    2020-01    purple      5\n",
       "4    2020-01      blue      9\n",
       "..       ...       ...    ...\n",
       "144  2020-10    maroon      7\n",
       "145  2020-10      blue      2\n",
       "146  2020-10     white      5\n",
       "147  2020-10      gray      3\n",
       "148  2020-10     olive      6\n",
       "\n",
       "[149 rows x 3 columns]"
      ]
     },
     "execution_count": 118,
     "metadata": {},
     "output_type": "execute_result"
    }
   ],
   "source": [
    "bookings_month_cab_color_wise"
   ]
  },
  {
   "cell_type": "markdown",
   "id": "e9116aa3",
   "metadata": {},
   "source": [
    "### Aggregating tip_amount for each month"
   ]
  },
  {
   "cell_type": "code",
   "execution_count": 150,
   "id": "f0095a88",
   "metadata": {},
   "outputs": [],
   "source": [
    "tip_aggregation=bookings.select('tip_amount',date_format(to_date(col('pickup_timestamp')),'yyyy-MM').alias('month')).\\\n",
    "groupBy('month').agg(sum('tip_amount').alias('tip_amount')).sort('month').toPandas()"
   ]
  },
  {
   "cell_type": "code",
   "execution_count": 151,
   "id": "c5c028c1",
   "metadata": {},
   "outputs": [
    {
     "data": {
      "text/html": [
       "<div>\n",
       "<style scoped>\n",
       "    .dataframe tbody tr th:only-of-type {\n",
       "        vertical-align: middle;\n",
       "    }\n",
       "\n",
       "    .dataframe tbody tr th {\n",
       "        vertical-align: top;\n",
       "    }\n",
       "\n",
       "    .dataframe thead th {\n",
       "        text-align: right;\n",
       "    }\n",
       "</style>\n",
       "<table border=\"1\" class=\"dataframe\">\n",
       "  <thead>\n",
       "    <tr style=\"text-align: right;\">\n",
       "      <th></th>\n",
       "      <th>month</th>\n",
       "      <th>tip_amount</th>\n",
       "    </tr>\n",
       "  </thead>\n",
       "  <tbody>\n",
       "    <tr>\n",
       "      <th>0</th>\n",
       "      <td>2020-01</td>\n",
       "      <td>4787.0</td>\n",
       "    </tr>\n",
       "    <tr>\n",
       "      <th>1</th>\n",
       "      <td>2020-02</td>\n",
       "      <td>4860.0</td>\n",
       "    </tr>\n",
       "    <tr>\n",
       "      <th>2</th>\n",
       "      <td>2020-03</td>\n",
       "      <td>4866.0</td>\n",
       "    </tr>\n",
       "    <tr>\n",
       "      <th>3</th>\n",
       "      <td>2020-04</td>\n",
       "      <td>5765.0</td>\n",
       "    </tr>\n",
       "    <tr>\n",
       "      <th>4</th>\n",
       "      <td>2020-05</td>\n",
       "      <td>5151.0</td>\n",
       "    </tr>\n",
       "    <tr>\n",
       "      <th>5</th>\n",
       "      <td>2020-06</td>\n",
       "      <td>4960.0</td>\n",
       "    </tr>\n",
       "    <tr>\n",
       "      <th>6</th>\n",
       "      <td>2020-07</td>\n",
       "      <td>4940.0</td>\n",
       "    </tr>\n",
       "    <tr>\n",
       "      <th>7</th>\n",
       "      <td>2020-08</td>\n",
       "      <td>6343.0</td>\n",
       "    </tr>\n",
       "    <tr>\n",
       "      <th>8</th>\n",
       "      <td>2020-09</td>\n",
       "      <td>4982.0</td>\n",
       "    </tr>\n",
       "    <tr>\n",
       "      <th>9</th>\n",
       "      <td>2020-10</td>\n",
       "      <td>4367.0</td>\n",
       "    </tr>\n",
       "  </tbody>\n",
       "</table>\n",
       "</div>"
      ],
      "text/plain": [
       "     month  tip_amount\n",
       "0  2020-01      4787.0\n",
       "1  2020-02      4860.0\n",
       "2  2020-03      4866.0\n",
       "3  2020-04      5765.0\n",
       "4  2020-05      5151.0\n",
       "5  2020-06      4960.0\n",
       "6  2020-07      4940.0\n",
       "7  2020-08      6343.0\n",
       "8  2020-09      4982.0\n",
       "9  2020-10      4367.0"
      ]
     },
     "execution_count": 151,
     "metadata": {},
     "output_type": "execute_result"
    }
   ],
   "source": [
    "tip_aggregation"
   ]
  },
  {
   "cell_type": "code",
   "execution_count": 152,
   "id": "6a03d6b9",
   "metadata": {},
   "outputs": [
    {
     "data": {
      "application/javascript": [
       "\n",
       "        if (window._pyforest_update_imports_cell) { window._pyforest_update_imports_cell('import matplotlib.pyplot as plt\\nimport seaborn as sns'); }\n",
       "    "
      ],
      "text/plain": [
       "<IPython.core.display.Javascript object>"
      ]
     },
     "metadata": {},
     "output_type": "display_data"
    },
    {
     "data": {
      "application/javascript": [
       "\n",
       "        if (window._pyforest_update_imports_cell) { window._pyforest_update_imports_cell('import matplotlib.pyplot as plt\\nimport seaborn as sns'); }\n",
       "    "
      ],
      "text/plain": [
       "<IPython.core.display.Javascript object>"
      ]
     },
     "metadata": {},
     "output_type": "display_data"
    },
    {
     "data": {
      "application/javascript": [
       "\n",
       "        if (window._pyforest_update_imports_cell) { window._pyforest_update_imports_cell('import matplotlib.pyplot as plt\\nimport seaborn as sns'); }\n",
       "    "
      ],
      "text/plain": [
       "<IPython.core.display.Javascript object>"
      ]
     },
     "metadata": {},
     "output_type": "display_data"
    },
    {
     "data": {
      "application/javascript": [
       "\n",
       "        if (window._pyforest_update_imports_cell) { window._pyforest_update_imports_cell('import matplotlib.pyplot as plt\\nimport seaborn as sns'); }\n",
       "    "
      ],
      "text/plain": [
       "<IPython.core.display.Javascript object>"
      ]
     },
     "metadata": {},
     "output_type": "display_data"
    },
    {
     "data": {
      "application/javascript": [
       "\n",
       "        if (window._pyforest_update_imports_cell) { window._pyforest_update_imports_cell('import matplotlib.pyplot as plt\\nimport seaborn as sns'); }\n",
       "    "
      ],
      "text/plain": [
       "<IPython.core.display.Javascript object>"
      ]
     },
     "metadata": {},
     "output_type": "display_data"
    },
    {
     "data": {
      "text/plain": [
       "Text(0.5, 1.0, 'Tip Amount Monthly')"
      ]
     },
     "execution_count": 152,
     "metadata": {},
     "output_type": "execute_result"
    },
    {
     "data": {
      "image/png": "[encoded data removed]",
      "text/plain": [
       "<Figure size 1080x360 with 1 Axes>"
      ]
     },
     "metadata": {
      "needs_background": "light"
     },
     "output_type": "display_data"
    }
   ],
   "source": [
    "fig, ax =plt.subplots(figsize=(15,5))\n",
    "plt.bar(tip_aggregation['month'],tip_aggregation['tip_amount'],\\\n",
    "        width=0.5,edgecolor='black')\n",
    "plt.xlabel('Months',fontsize=12)\n",
    "plt.ylabel('Tip Amount',fontsize=12)\n",
    "plt.title('Tip Amount Monthly',fontsize=20)"
   ]
  },
  {
   "cell_type": "markdown",
   "id": "acb88cb4",
   "metadata": {},
   "source": [
    "### Aggregating total trip_fare for each month "
   ]
  },
  {
   "cell_type": "code",
   "execution_count": 153,
   "id": "ae54cc0b",
   "metadata": {},
   "outputs": [],
   "source": [
    "fare_aggregation=bookings.select('trip_fare',date_format(to_date(col('pickup_timestamp')),'yyyy-MM').alias('month')).\\\n",
    "groupBy('month').agg(sum('trip_fare').alias('trip_fare')).sort('month').toPandas()"
   ]
  },
  {
   "cell_type": "code",
   "execution_count": 154,
   "id": "e56bf67a",
   "metadata": {},
   "outputs": [
    {
     "data": {
      "text/html": [
       "<div>\n",
       "<style scoped>\n",
       "    .dataframe tbody tr th:only-of-type {\n",
       "        vertical-align: middle;\n",
       "    }\n",
       "\n",
       "    .dataframe tbody tr th {\n",
       "        vertical-align: top;\n",
       "    }\n",
       "\n",
       "    .dataframe thead th {\n",
       "        text-align: right;\n",
       "    }\n",
       "</style>\n",
       "<table border=\"1\" class=\"dataframe\">\n",
       "  <thead>\n",
       "    <tr style=\"text-align: right;\">\n",
       "      <th></th>\n",
       "      <th>month</th>\n",
       "      <th>trip_fare</th>\n",
       "    </tr>\n",
       "  </thead>\n",
       "  <tbody>\n",
       "    <tr>\n",
       "      <th>0</th>\n",
       "      <td>2020-01</td>\n",
       "      <td>48574.0</td>\n",
       "    </tr>\n",
       "    <tr>\n",
       "      <th>1</th>\n",
       "      <td>2020-02</td>\n",
       "      <td>52607.0</td>\n",
       "    </tr>\n",
       "    <tr>\n",
       "      <th>2</th>\n",
       "      <td>2020-03</td>\n",
       "      <td>48784.0</td>\n",
       "    </tr>\n",
       "    <tr>\n",
       "      <th>3</th>\n",
       "      <td>2020-04</td>\n",
       "      <td>58223.0</td>\n",
       "    </tr>\n",
       "    <tr>\n",
       "      <th>4</th>\n",
       "      <td>2020-05</td>\n",
       "      <td>48434.0</td>\n",
       "    </tr>\n",
       "    <tr>\n",
       "      <th>5</th>\n",
       "      <td>2020-06</td>\n",
       "      <td>45644.0</td>\n",
       "    </tr>\n",
       "    <tr>\n",
       "      <th>6</th>\n",
       "      <td>2020-07</td>\n",
       "      <td>57419.0</td>\n",
       "    </tr>\n",
       "    <tr>\n",
       "      <th>7</th>\n",
       "      <td>2020-08</td>\n",
       "      <td>54023.0</td>\n",
       "    </tr>\n",
       "    <tr>\n",
       "      <th>8</th>\n",
       "      <td>2020-09</td>\n",
       "      <td>53063.0</td>\n",
       "    </tr>\n",
       "    <tr>\n",
       "      <th>9</th>\n",
       "      <td>2020-10</td>\n",
       "      <td>45792.0</td>\n",
       "    </tr>\n",
       "  </tbody>\n",
       "</table>\n",
       "</div>"
      ],
      "text/plain": [
       "     month  trip_fare\n",
       "0  2020-01    48574.0\n",
       "1  2020-02    52607.0\n",
       "2  2020-03    48784.0\n",
       "3  2020-04    58223.0\n",
       "4  2020-05    48434.0\n",
       "5  2020-06    45644.0\n",
       "6  2020-07    57419.0\n",
       "7  2020-08    54023.0\n",
       "8  2020-09    53063.0\n",
       "9  2020-10    45792.0"
      ]
     },
     "execution_count": 154,
     "metadata": {},
     "output_type": "execute_result"
    }
   ],
   "source": [
    "fare_aggregation.sort_values(\"month\")"
   ]
  },
  {
   "cell_type": "code",
   "execution_count": 155,
   "id": "7a8f6f0e",
   "metadata": {},
   "outputs": [
    {
     "data": {
      "application/javascript": [
       "\n",
       "        if (window._pyforest_update_imports_cell) { window._pyforest_update_imports_cell('import matplotlib.pyplot as plt\\nimport seaborn as sns'); }\n",
       "    "
      ],
      "text/plain": [
       "<IPython.core.display.Javascript object>"
      ]
     },
     "metadata": {},
     "output_type": "display_data"
    },
    {
     "data": {
      "application/javascript": [
       "\n",
       "        if (window._pyforest_update_imports_cell) { window._pyforest_update_imports_cell('import matplotlib.pyplot as plt\\nimport seaborn as sns'); }\n",
       "    "
      ],
      "text/plain": [
       "<IPython.core.display.Javascript object>"
      ]
     },
     "metadata": {},
     "output_type": "display_data"
    },
    {
     "data": {
      "application/javascript": [
       "\n",
       "        if (window._pyforest_update_imports_cell) { window._pyforest_update_imports_cell('import matplotlib.pyplot as plt\\nimport seaborn as sns'); }\n",
       "    "
      ],
      "text/plain": [
       "<IPython.core.display.Javascript object>"
      ]
     },
     "metadata": {},
     "output_type": "display_data"
    },
    {
     "data": {
      "application/javascript": [
       "\n",
       "        if (window._pyforest_update_imports_cell) { window._pyforest_update_imports_cell('import matplotlib.pyplot as plt\\nimport seaborn as sns'); }\n",
       "    "
      ],
      "text/plain": [
       "<IPython.core.display.Javascript object>"
      ]
     },
     "metadata": {},
     "output_type": "display_data"
    },
    {
     "data": {
      "application/javascript": [
       "\n",
       "        if (window._pyforest_update_imports_cell) { window._pyforest_update_imports_cell('import matplotlib.pyplot as plt\\nimport seaborn as sns'); }\n",
       "    "
      ],
      "text/plain": [
       "<IPython.core.display.Javascript object>"
      ]
     },
     "metadata": {},
     "output_type": "display_data"
    },
    {
     "data": {
      "text/plain": [
       "Text(0.5, 1.0, 'Trip Fare Monthly')"
      ]
     },
     "execution_count": 155,
     "metadata": {},
     "output_type": "execute_result"
    },
    {
     "data": {
      "image/png": "[encoded data removed]",
      "text/plain": [
       "<Figure size 1080x360 with 1 Axes>"
      ]
     },
     "metadata": {
      "needs_background": "light"
     },
     "output_type": "display_data"
    }
   ],
   "source": [
    "fig, ax =plt.subplots(figsize=(15,5))\n",
    "plt.bar(fare_aggregation['month'],fare_aggregation['trip_fare'],\\\n",
    "        width=0.5,edgecolor='black')\n",
    "plt.xlabel('Months',fontsize=12)\n",
    "plt.ylabel('Trip Fare',fontsize=12)\n",
    "plt.title('Trip Fare Monthly',fontsize=20)"
   ]
  },
  {
   "cell_type": "markdown",
   "id": "ae8d2cb7",
   "metadata": {},
   "source": [
    "### Aggregating bookings having rating_by_customer greater than 3 for each month"
   ]
  },
  {
   "cell_type": "code",
   "execution_count": 159,
   "id": "ceb0c655",
   "metadata": {},
   "outputs": [],
   "source": [
    "high_rating_bookings=bookings.filter(col('rating_by_customer')>3).\\\n",
    "select((date_format(to_date(col('pickup_timestamp')),'yyyy-MM').alias('month'))).\\\n",
    "groupBy('month').agg(count(col('month')).alias('bookings')).sort('month').toPandas()"
   ]
  },
  {
   "cell_type": "code",
   "execution_count": 160,
   "id": "09d7a3a7",
   "metadata": {},
   "outputs": [
    {
     "data": {
      "text/html": [
       "<div>\n",
       "<style scoped>\n",
       "    .dataframe tbody tr th:only-of-type {\n",
       "        vertical-align: middle;\n",
       "    }\n",
       "\n",
       "    .dataframe tbody tr th {\n",
       "        vertical-align: top;\n",
       "    }\n",
       "\n",
       "    .dataframe thead th {\n",
       "        text-align: right;\n",
       "    }\n",
       "</style>\n",
       "<table border=\"1\" class=\"dataframe\">\n",
       "  <thead>\n",
       "    <tr style=\"text-align: right;\">\n",
       "      <th></th>\n",
       "      <th>month</th>\n",
       "      <th>bookings</th>\n",
       "    </tr>\n",
       "  </thead>\n",
       "  <tbody>\n",
       "    <tr>\n",
       "      <th>0</th>\n",
       "      <td>2020-01</td>\n",
       "      <td>38</td>\n",
       "    </tr>\n",
       "    <tr>\n",
       "      <th>1</th>\n",
       "      <td>2020-02</td>\n",
       "      <td>35</td>\n",
       "    </tr>\n",
       "    <tr>\n",
       "      <th>2</th>\n",
       "      <td>2020-03</td>\n",
       "      <td>36</td>\n",
       "    </tr>\n",
       "    <tr>\n",
       "      <th>3</th>\n",
       "      <td>2020-04</td>\n",
       "      <td>55</td>\n",
       "    </tr>\n",
       "    <tr>\n",
       "      <th>4</th>\n",
       "      <td>2020-05</td>\n",
       "      <td>37</td>\n",
       "    </tr>\n",
       "    <tr>\n",
       "      <th>5</th>\n",
       "      <td>2020-06</td>\n",
       "      <td>30</td>\n",
       "    </tr>\n",
       "    <tr>\n",
       "      <th>6</th>\n",
       "      <td>2020-07</td>\n",
       "      <td>43</td>\n",
       "    </tr>\n",
       "    <tr>\n",
       "      <th>7</th>\n",
       "      <td>2020-08</td>\n",
       "      <td>42</td>\n",
       "    </tr>\n",
       "    <tr>\n",
       "      <th>8</th>\n",
       "      <td>2020-09</td>\n",
       "      <td>37</td>\n",
       "    </tr>\n",
       "    <tr>\n",
       "      <th>9</th>\n",
       "      <td>2020-10</td>\n",
       "      <td>36</td>\n",
       "    </tr>\n",
       "  </tbody>\n",
       "</table>\n",
       "</div>"
      ],
      "text/plain": [
       "     month  bookings\n",
       "0  2020-01        38\n",
       "1  2020-02        35\n",
       "2  2020-03        36\n",
       "3  2020-04        55\n",
       "4  2020-05        37\n",
       "5  2020-06        30\n",
       "6  2020-07        43\n",
       "7  2020-08        42\n",
       "8  2020-09        37\n",
       "9  2020-10        36"
      ]
     },
     "execution_count": 160,
     "metadata": {},
     "output_type": "execute_result"
    }
   ],
   "source": [
    "high_rating_bookings"
   ]
  },
  {
   "cell_type": "code",
   "execution_count": 161,
   "id": "295e93e1",
   "metadata": {},
   "outputs": [
    {
     "data": {
      "application/javascript": [
       "\n",
       "        if (window._pyforest_update_imports_cell) { window._pyforest_update_imports_cell('import matplotlib.pyplot as plt\\nimport seaborn as sns'); }\n",
       "    "
      ],
      "text/plain": [
       "<IPython.core.display.Javascript object>"
      ]
     },
     "metadata": {},
     "output_type": "display_data"
    },
    {
     "data": {
      "application/javascript": [
       "\n",
       "        if (window._pyforest_update_imports_cell) { window._pyforest_update_imports_cell('import matplotlib.pyplot as plt\\nimport seaborn as sns'); }\n",
       "    "
      ],
      "text/plain": [
       "<IPython.core.display.Javascript object>"
      ]
     },
     "metadata": {},
     "output_type": "display_data"
    },
    {
     "data": {
      "application/javascript": [
       "\n",
       "        if (window._pyforest_update_imports_cell) { window._pyforest_update_imports_cell('import matplotlib.pyplot as plt\\nimport seaborn as sns'); }\n",
       "    "
      ],
      "text/plain": [
       "<IPython.core.display.Javascript object>"
      ]
     },
     "metadata": {},
     "output_type": "display_data"
    },
    {
     "data": {
      "application/javascript": [
       "\n",
       "        if (window._pyforest_update_imports_cell) { window._pyforest_update_imports_cell('import matplotlib.pyplot as plt\\nimport seaborn as sns'); }\n",
       "    "
      ],
      "text/plain": [
       "<IPython.core.display.Javascript object>"
      ]
     },
     "metadata": {},
     "output_type": "display_data"
    },
    {
     "data": {
      "application/javascript": [
       "\n",
       "        if (window._pyforest_update_imports_cell) { window._pyforest_update_imports_cell('import matplotlib.pyplot as plt\\nimport seaborn as sns'); }\n",
       "    "
      ],
      "text/plain": [
       "<IPython.core.display.Javascript object>"
      ]
     },
     "metadata": {},
     "output_type": "display_data"
    },
    {
     "data": {
      "text/plain": [
       "Text(0.5, 1.0, 'Higher Rated Monthly Bookings')"
      ]
     },
     "execution_count": 161,
     "metadata": {},
     "output_type": "execute_result"
    },
    {
     "data": {
      "image/png": "[encoded data removed]",
      "text/plain": [
       "<Figure size 1080x360 with 1 Axes>"
      ]
     },
     "metadata": {
      "needs_background": "light"
     },
     "output_type": "display_data"
    }
   ],
   "source": [
    "fig, ax =plt.subplots(figsize=(15,5))\n",
    "plt.bar(high_rating_bookings['month'],high_rating_bookings['bookings'],\\\n",
    "        width=0.5,edgecolor='black')\n",
    "plt.xlabel('Months',fontsize=12)\n",
    "plt.ylabel('Bookings',fontsize=12)\n",
    "plt.title('Higher Rated Monthly Bookings',fontsize=20)"
   ]
  },
  {
   "cell_type": "markdown",
   "id": "2d8d497a",
   "metadata": {},
   "source": [
    "### Aggregating total number of drivers for each of the customer rating"
   ]
  },
  {
   "cell_type": "code",
   "execution_count": 162,
   "id": "91fdc2ce",
   "metadata": {},
   "outputs": [],
   "source": [
    "customer_ratings=bookings.groupBy('rating_by_customer').agg(count(col('rating_by_customer')).alias('drivers')).\\\n",
    "sort('rating_by_customer').toPandas()"
   ]
  },
  {
   "cell_type": "code",
   "execution_count": 163,
   "id": "b48a6c3a",
   "metadata": {},
   "outputs": [
    {
     "data": {
      "text/html": [
       "<div>\n",
       "<style scoped>\n",
       "    .dataframe tbody tr th:only-of-type {\n",
       "        vertical-align: middle;\n",
       "    }\n",
       "\n",
       "    .dataframe tbody tr th {\n",
       "        vertical-align: top;\n",
       "    }\n",
       "\n",
       "    .dataframe thead th {\n",
       "        text-align: right;\n",
       "    }\n",
       "</style>\n",
       "<table border=\"1\" class=\"dataframe\">\n",
       "  <thead>\n",
       "    <tr style=\"text-align: right;\">\n",
       "      <th></th>\n",
       "      <th>rating_by_customer</th>\n",
       "      <th>drivers</th>\n",
       "    </tr>\n",
       "  </thead>\n",
       "  <tbody>\n",
       "    <tr>\n",
       "      <th>0</th>\n",
       "      <td>1</td>\n",
       "      <td>202</td>\n",
       "    </tr>\n",
       "    <tr>\n",
       "      <th>1</th>\n",
       "      <td>2</td>\n",
       "      <td>201</td>\n",
       "    </tr>\n",
       "    <tr>\n",
       "      <th>2</th>\n",
       "      <td>3</td>\n",
       "      <td>208</td>\n",
       "    </tr>\n",
       "    <tr>\n",
       "      <th>3</th>\n",
       "      <td>4</td>\n",
       "      <td>205</td>\n",
       "    </tr>\n",
       "    <tr>\n",
       "      <th>4</th>\n",
       "      <td>5</td>\n",
       "      <td>184</td>\n",
       "    </tr>\n",
       "  </tbody>\n",
       "</table>\n",
       "</div>"
      ],
      "text/plain": [
       "   rating_by_customer  drivers\n",
       "0                   1      202\n",
       "1                   2      201\n",
       "2                   3      208\n",
       "3                   4      205\n",
       "4                   5      184"
      ]
     },
     "execution_count": 163,
     "metadata": {},
     "output_type": "execute_result"
    }
   ],
   "source": [
    "customer_ratings"
   ]
  },
  {
   "cell_type": "code",
   "execution_count": 175,
   "id": "f56605ac",
   "metadata": {},
   "outputs": [
    {
     "data": {
      "application/javascript": [
       "\n",
       "        if (window._pyforest_update_imports_cell) { window._pyforest_update_imports_cell('import matplotlib.pyplot as plt\\nimport seaborn as sns'); }\n",
       "    "
      ],
      "text/plain": [
       "<IPython.core.display.Javascript object>"
      ]
     },
     "metadata": {},
     "output_type": "display_data"
    },
    {
     "data": {
      "application/javascript": [
       "\n",
       "        if (window._pyforest_update_imports_cell) { window._pyforest_update_imports_cell('import matplotlib.pyplot as plt\\nimport seaborn as sns'); }\n",
       "    "
      ],
      "text/plain": [
       "<IPython.core.display.Javascript object>"
      ]
     },
     "metadata": {},
     "output_type": "display_data"
    },
    {
     "data": {
      "application/javascript": [
       "\n",
       "        if (window._pyforest_update_imports_cell) { window._pyforest_update_imports_cell('import matplotlib.pyplot as plt\\nimport seaborn as sns'); }\n",
       "    "
      ],
      "text/plain": [
       "<IPython.core.display.Javascript object>"
      ]
     },
     "metadata": {},
     "output_type": "display_data"
    },
    {
     "data": {
      "image/png": "[encoded data removed]",
      "text/plain": [
       "<Figure size 432x288 with 1 Axes>"
      ]
     },
     "metadata": {},
     "output_type": "display_data"
    }
   ],
   "source": [
    "plt.pie(customer_ratings['drivers'],\n",
    "        labels=customer_ratings['rating_by_customer'],\n",
    "       shadow=True,autopct= '%.2f')\n",
    "plt.title('Customer Ratings',fontsize=20)\n",
    "plt.show()"
   ]
  },
  {
   "cell_type": "markdown",
   "id": "aab2ef22",
   "metadata": {},
   "source": [
    "### Aggregating on OS Version"
   ]
  },
  {
   "cell_type": "code",
   "execution_count": 177,
   "id": "e89fe13e",
   "metadata": {},
   "outputs": [],
   "source": [
    "os_grouping=bookings.groupBy('customer_phone_os_version').\\\n",
    "agg(count(col('customer_phone_os_version')).alias('freq')).toPandas()"
   ]
  },
  {
   "cell_type": "code",
   "execution_count": 178,
   "id": "d3b08b1f",
   "metadata": {},
   "outputs": [
    {
     "data": {
      "text/html": [
       "<div>\n",
       "<style scoped>\n",
       "    .dataframe tbody tr th:only-of-type {\n",
       "        vertical-align: middle;\n",
       "    }\n",
       "\n",
       "    .dataframe tbody tr th {\n",
       "        vertical-align: top;\n",
       "    }\n",
       "\n",
       "    .dataframe thead th {\n",
       "        text-align: right;\n",
       "    }\n",
       "</style>\n",
       "<table border=\"1\" class=\"dataframe\">\n",
       "  <thead>\n",
       "    <tr style=\"text-align: right;\">\n",
       "      <th></th>\n",
       "      <th>customer_phone_os_version</th>\n",
       "      <th>freq</th>\n",
       "    </tr>\n",
       "  </thead>\n",
       "  <tbody>\n",
       "    <tr>\n",
       "      <th>0</th>\n",
       "      <td>iOS</td>\n",
       "      <td>521</td>\n",
       "    </tr>\n",
       "    <tr>\n",
       "      <th>1</th>\n",
       "      <td>Android</td>\n",
       "      <td>479</td>\n",
       "    </tr>\n",
       "  </tbody>\n",
       "</table>\n",
       "</div>"
      ],
      "text/plain": [
       "  customer_phone_os_version  freq\n",
       "0                       iOS   521\n",
       "1                   Android   479"
      ]
     },
     "execution_count": 178,
     "metadata": {},
     "output_type": "execute_result"
    }
   ],
   "source": [
    "os_grouping"
   ]
  },
  {
   "cell_type": "code",
   "execution_count": 180,
   "id": "87556f6f",
   "metadata": {},
   "outputs": [
    {
     "data": {
      "application/javascript": [
       "\n",
       "        if (window._pyforest_update_imports_cell) { window._pyforest_update_imports_cell('import matplotlib.pyplot as plt\\nimport seaborn as sns'); }\n",
       "    "
      ],
      "text/plain": [
       "<IPython.core.display.Javascript object>"
      ]
     },
     "metadata": {},
     "output_type": "display_data"
    },
    {
     "data": {
      "application/javascript": [
       "\n",
       "        if (window._pyforest_update_imports_cell) { window._pyforest_update_imports_cell('import matplotlib.pyplot as plt\\nimport seaborn as sns'); }\n",
       "    "
      ],
      "text/plain": [
       "<IPython.core.display.Javascript object>"
      ]
     },
     "metadata": {},
     "output_type": "display_data"
    },
    {
     "data": {
      "application/javascript": [
       "\n",
       "        if (window._pyforest_update_imports_cell) { window._pyforest_update_imports_cell('import matplotlib.pyplot as plt\\nimport seaborn as sns'); }\n",
       "    "
      ],
      "text/plain": [
       "<IPython.core.display.Javascript object>"
      ]
     },
     "metadata": {},
     "output_type": "display_data"
    },
    {
     "data": {
      "image/png": "[encoded data removed]",
      "text/plain": [
       "<Figure size 432x288 with 1 Axes>"
      ]
     },
     "metadata": {},
     "output_type": "display_data"
    }
   ],
   "source": [
    "plt.pie(os_grouping['freq'],\n",
    "        labels=os_grouping['customer_phone_os_version'],\n",
    "       shadow=True,autopct= '%.2f')\n",
    "plt.title('OS Version',fontsize=20)\n",
    "plt.show()"
   ]
  },
  {
   "cell_type": "code",
   "execution_count": 190,
   "id": "94f7d6f5",
   "metadata": {},
   "outputs": [
    {
     "data": {
      "application/javascript": [
       "\n",
       "        if (window._pyforest_update_imports_cell) { window._pyforest_update_imports_cell('import matplotlib.pyplot as plt\\nimport seaborn as sns'); }\n",
       "    "
      ],
      "text/plain": [
       "<IPython.core.display.Javascript object>"
      ]
     },
     "metadata": {},
     "output_type": "display_data"
    },
    {
     "data": {
      "application/javascript": [
       "\n",
       "        if (window._pyforest_update_imports_cell) { window._pyforest_update_imports_cell('import matplotlib.pyplot as plt\\nimport seaborn as sns'); }\n",
       "    "
      ],
      "text/plain": [
       "<IPython.core.display.Javascript object>"
      ]
     },
     "metadata": {},
     "output_type": "display_data"
    },
    {
     "data": {
      "application/javascript": [
       "\n",
       "        if (window._pyforest_update_imports_cell) { window._pyforest_update_imports_cell('import matplotlib.pyplot as plt\\nimport seaborn as sns'); }\n",
       "    "
      ],
      "text/plain": [
       "<IPython.core.display.Javascript object>"
      ]
     },
     "metadata": {},
     "output_type": "display_data"
    },
    {
     "data": {
      "application/javascript": [
       "\n",
       "        if (window._pyforest_update_imports_cell) { window._pyforest_update_imports_cell('import matplotlib.pyplot as plt\\nimport seaborn as sns'); }\n",
       "    "
      ],
      "text/plain": [
       "<IPython.core.display.Javascript object>"
      ]
     },
     "metadata": {},
     "output_type": "display_data"
    },
    {
     "data": {
      "application/javascript": [
       "\n",
       "        if (window._pyforest_update_imports_cell) { window._pyforest_update_imports_cell('import matplotlib.pyplot as plt\\nimport seaborn as sns'); }\n",
       "    "
      ],
      "text/plain": [
       "<IPython.core.display.Javascript object>"
      ]
     },
     "metadata": {},
     "output_type": "display_data"
    },
    {
     "data": {
      "text/plain": [
       "Text(0.5, 1.0, 'OS Version')"
      ]
     },
     "execution_count": 190,
     "metadata": {},
     "output_type": "execute_result"
    },
    {
     "data": {
      "image/png": "[encoded data removed]",
      "text/plain": [
       "<Figure size 360x360 with 1 Axes>"
      ]
     },
     "metadata": {
      "needs_background": "light"
     },
     "output_type": "display_data"
    }
   ],
   "source": [
    "fig, ax =plt.subplots(figsize=(5,5))\n",
    "plt.bar(os_grouping['customer_phone_os_version'],os_grouping['freq'],\\\n",
    "        width=0.2,edgecolor='black')\n",
    "plt.xlabel('OS Version',fontsize=12)\n",
    "plt.ylabel('Number of Users',fontsize=12)\n",
    "plt.title('OS Version',fontsize=20)"
   ]
  },
  {
   "cell_type": "markdown",
   "id": "e4aa2f42",
   "metadata": {},
   "source": [
    "# Take a glance at clickstream data"
   ]
  },
  {
   "cell_type": "code",
   "execution_count": 59,
   "id": "67c7a128",
   "metadata": {},
   "outputs": [
    {
     "data": {
      "text/plain": [
       "['customer_id',\n",
       " 'app_version',\n",
       " 'OS_version',\n",
       " 'lat',\n",
       " 'lon',\n",
       " 'page_id',\n",
       " 'button_id',\n",
       " 'is_button_click',\n",
       " 'is_page_view',\n",
       " 'is_scroll_up',\n",
       " 'is_scroll_down',\n",
       " 'timestamp']"
      ]
     },
     "execution_count": 59,
     "metadata": {},
     "output_type": "execute_result"
    }
   ],
   "source": [
    "clickstream.columns"
   ]
  },
  {
   "cell_type": "code",
   "execution_count": 21,
   "id": "4727f5ad",
   "metadata": {},
   "outputs": [
    {
     "data": {
      "text/html": [
       "<div>\n",
       "<style scoped>\n",
       "    .dataframe tbody tr th:only-of-type {\n",
       "        vertical-align: middle;\n",
       "    }\n",
       "\n",
       "    .dataframe tbody tr th {\n",
       "        vertical-align: top;\n",
       "    }\n",
       "\n",
       "    .dataframe thead th {\n",
       "        text-align: right;\n",
       "    }\n",
       "</style>\n",
       "<table border=\"1\" class=\"dataframe\">\n",
       "  <thead>\n",
       "    <tr style=\"text-align: right;\">\n",
       "      <th></th>\n",
       "      <th>customer_id</th>\n",
       "      <th>app_version</th>\n",
       "      <th>OS_version</th>\n",
       "      <th>lat</th>\n",
       "      <th>lon</th>\n",
       "      <th>page_id</th>\n",
       "      <th>button_id</th>\n",
       "      <th>is_button_click</th>\n",
       "      <th>is_page_view</th>\n",
       "      <th>is_scroll_up</th>\n",
       "      <th>is_scroll_down</th>\n",
       "      <th>timestamp</th>\n",
       "    </tr>\n",
       "  </thead>\n",
       "  <tbody>\n",
       "    <tr>\n",
       "      <th>0</th>\n",
       "      <td>26564820</td>\n",
       "      <td>3.2.35</td>\n",
       "      <td>Android</td>\n",
       "      <td>16.445487</td>\n",
       "      <td>99.902065</td>\n",
       "      <td>de545711-3914-4450-8c11-b17b8dabb5e1</td>\n",
       "      <td>fcba68aa-1231-11eb-adc1-0242ac120002</td>\n",
       "      <td>No</td>\n",
       "      <td>Yes</td>\n",
       "      <td>No</td>\n",
       "      <td>Yes</td>\n",
       "      <td>2020-09-14 09:59:07</td>\n",
       "    </tr>\n",
       "    <tr>\n",
       "      <th>1</th>\n",
       "      <td>31906387</td>\n",
       "      <td>2.4.7</td>\n",
       "      <td>iOS</td>\n",
       "      <td>-64.813749</td>\n",
       "      <td>-133.527040</td>\n",
       "      <td>de545711-3914-4450-8c11-b17b8dabb5e1</td>\n",
       "      <td>a95dd57b-779f-49db-819d-b6960483e554</td>\n",
       "      <td>No</td>\n",
       "      <td>No</td>\n",
       "      <td>Yes</td>\n",
       "      <td>Yes</td>\n",
       "      <td>2020-05-16 16:30:21</td>\n",
       "    </tr>\n",
       "    <tr>\n",
       "      <th>2</th>\n",
       "      <td>25713677</td>\n",
       "      <td>3.4.12</td>\n",
       "      <td>Android</td>\n",
       "      <td>89.943435</td>\n",
       "      <td>127.313415</td>\n",
       "      <td>b328829e-17ae-11eb-adc1-0242ac120002</td>\n",
       "      <td>fcba68aa-1231-11eb-adc1-0242ac120002</td>\n",
       "      <td>No</td>\n",
       "      <td>No</td>\n",
       "      <td>Yes</td>\n",
       "      <td>No</td>\n",
       "      <td>2020-02-09 00:52:13</td>\n",
       "    </tr>\n",
       "    <tr>\n",
       "      <th>3</th>\n",
       "      <td>83474293</td>\n",
       "      <td>3.1.8</td>\n",
       "      <td>Android</td>\n",
       "      <td>-69.939070</td>\n",
       "      <td>-36.451670</td>\n",
       "      <td>e7bc5fb2-1231-11eb-adc1-0242ac120002</td>\n",
       "      <td>e1e99492-17ae-11eb-adc1-0242ac120002</td>\n",
       "      <td>Yes</td>\n",
       "      <td>No</td>\n",
       "      <td>Yes</td>\n",
       "      <td>No</td>\n",
       "      <td>2020-06-17 10:42:50</td>\n",
       "    </tr>\n",
       "    <tr>\n",
       "      <th>4</th>\n",
       "      <td>63727807</td>\n",
       "      <td>2.2.9</td>\n",
       "      <td>iOS</td>\n",
       "      <td>64.082108</td>\n",
       "      <td>-81.822078</td>\n",
       "      <td>e7bc5fb2-1231-11eb-adc1-0242ac120002</td>\n",
       "      <td>fcba68aa-1231-11eb-adc1-0242ac120002</td>\n",
       "      <td>No</td>\n",
       "      <td>Yes</td>\n",
       "      <td>Yes</td>\n",
       "      <td>Yes</td>\n",
       "      <td>2020-07-06 02:51:53</td>\n",
       "    </tr>\n",
       "    <tr>\n",
       "      <th>...</th>\n",
       "      <td>...</td>\n",
       "      <td>...</td>\n",
       "      <td>...</td>\n",
       "      <td>...</td>\n",
       "      <td>...</td>\n",
       "      <td>...</td>\n",
       "      <td>...</td>\n",
       "      <td>...</td>\n",
       "      <td>...</td>\n",
       "      <td>...</td>\n",
       "      <td>...</td>\n",
       "      <td>...</td>\n",
       "    </tr>\n",
       "    <tr>\n",
       "      <th>2995</th>\n",
       "      <td>16813062</td>\n",
       "      <td>3.2.18</td>\n",
       "      <td>Android</td>\n",
       "      <td>-88.342371</td>\n",
       "      <td>-176.291730</td>\n",
       "      <td>b328829e-17ae-11eb-adc1-0242ac120002</td>\n",
       "      <td>e1e99492-17ae-11eb-adc1-0242ac120002</td>\n",
       "      <td>No</td>\n",
       "      <td>Yes</td>\n",
       "      <td>No</td>\n",
       "      <td>No</td>\n",
       "      <td>2020-05-05 23:08:24</td>\n",
       "    </tr>\n",
       "    <tr>\n",
       "      <th>2996</th>\n",
       "      <td>13307480</td>\n",
       "      <td>4.3.36</td>\n",
       "      <td>iOS</td>\n",
       "      <td>26.664538</td>\n",
       "      <td>109.842184</td>\n",
       "      <td>b328829e-17ae-11eb-adc1-0242ac120002</td>\n",
       "      <td>e1e99492-17ae-11eb-adc1-0242ac120002</td>\n",
       "      <td>No</td>\n",
       "      <td>Yes</td>\n",
       "      <td>Yes</td>\n",
       "      <td>Yes</td>\n",
       "      <td>2020-06-12 19:23:21</td>\n",
       "    </tr>\n",
       "    <tr>\n",
       "      <th>2997</th>\n",
       "      <td>66537285</td>\n",
       "      <td>3.4.37</td>\n",
       "      <td>Android</td>\n",
       "      <td>-43.480471</td>\n",
       "      <td>108.716577</td>\n",
       "      <td>de545711-3914-4450-8c11-b17b8dabb5e1</td>\n",
       "      <td>e1e99492-17ae-11eb-adc1-0242ac120002</td>\n",
       "      <td>Yes</td>\n",
       "      <td>Yes</td>\n",
       "      <td>No</td>\n",
       "      <td>Yes</td>\n",
       "      <td>2020-09-07 17:10:58</td>\n",
       "    </tr>\n",
       "    <tr>\n",
       "      <th>2998</th>\n",
       "      <td>48434687</td>\n",
       "      <td>4.1.28</td>\n",
       "      <td>Android</td>\n",
       "      <td>-7.888734</td>\n",
       "      <td>-54.732169</td>\n",
       "      <td>b328829e-17ae-11eb-adc1-0242ac120002</td>\n",
       "      <td>a95dd57b-779f-49db-819d-b6960483e554</td>\n",
       "      <td>Yes</td>\n",
       "      <td>Yes</td>\n",
       "      <td>No</td>\n",
       "      <td>No</td>\n",
       "      <td>2020-02-18 19:48:48</td>\n",
       "    </tr>\n",
       "    <tr>\n",
       "      <th>2999</th>\n",
       "      <td>98030364</td>\n",
       "      <td>3.3.35</td>\n",
       "      <td>iOS</td>\n",
       "      <td>59.445031</td>\n",
       "      <td>-66.155279</td>\n",
       "      <td>e7bc5fb2-1231-11eb-adc1-0242ac120002</td>\n",
       "      <td>e1e99492-17ae-11eb-adc1-0242ac120002</td>\n",
       "      <td>Yes</td>\n",
       "      <td>Yes</td>\n",
       "      <td>No</td>\n",
       "      <td>Yes</td>\n",
       "      <td>2020-04-15 17:33:44</td>\n",
       "    </tr>\n",
       "  </tbody>\n",
       "</table>\n",
       "<p>3000 rows × 12 columns</p>\n",
       "</div>"
      ],
      "text/plain": [
       "      customer_id app_version OS_version        lat         lon  \\\n",
       "0        26564820      3.2.35    Android  16.445487   99.902065   \n",
       "1        31906387       2.4.7        iOS -64.813749 -133.527040   \n",
       "2        25713677      3.4.12    Android  89.943435  127.313415   \n",
       "3        83474293       3.1.8    Android -69.939070  -36.451670   \n",
       "4        63727807       2.2.9        iOS  64.082108  -81.822078   \n",
       "...           ...         ...        ...        ...         ...   \n",
       "2995     16813062      3.2.18    Android -88.342371 -176.291730   \n",
       "2996     13307480      4.3.36        iOS  26.664538  109.842184   \n",
       "2997     66537285      3.4.37    Android -43.480471  108.716577   \n",
       "2998     48434687      4.1.28    Android  -7.888734  -54.732169   \n",
       "2999     98030364      3.3.35        iOS  59.445031  -66.155279   \n",
       "\n",
       "                                   page_id  \\\n",
       "0     de545711-3914-4450-8c11-b17b8dabb5e1   \n",
       "1     de545711-3914-4450-8c11-b17b8dabb5e1   \n",
       "2     b328829e-17ae-11eb-adc1-0242ac120002   \n",
       "3     e7bc5fb2-1231-11eb-adc1-0242ac120002   \n",
       "4     e7bc5fb2-1231-11eb-adc1-0242ac120002   \n",
       "...                                    ...   \n",
       "2995  b328829e-17ae-11eb-adc1-0242ac120002   \n",
       "2996  b328829e-17ae-11eb-adc1-0242ac120002   \n",
       "2997  de545711-3914-4450-8c11-b17b8dabb5e1   \n",
       "2998  b328829e-17ae-11eb-adc1-0242ac120002   \n",
       "2999  e7bc5fb2-1231-11eb-adc1-0242ac120002   \n",
       "\n",
       "                                 button_id is_button_click is_page_view  \\\n",
       "0     fcba68aa-1231-11eb-adc1-0242ac120002              No          Yes   \n",
       "1     a95dd57b-779f-49db-819d-b6960483e554              No           No   \n",
       "2     fcba68aa-1231-11eb-adc1-0242ac120002              No           No   \n",
       "3     e1e99492-17ae-11eb-adc1-0242ac120002             Yes           No   \n",
       "4     fcba68aa-1231-11eb-adc1-0242ac120002              No          Yes   \n",
       "...                                    ...             ...          ...   \n",
       "2995  e1e99492-17ae-11eb-adc1-0242ac120002              No          Yes   \n",
       "2996  e1e99492-17ae-11eb-adc1-0242ac120002              No          Yes   \n",
       "2997  e1e99492-17ae-11eb-adc1-0242ac120002             Yes          Yes   \n",
       "2998  a95dd57b-779f-49db-819d-b6960483e554             Yes          Yes   \n",
       "2999  e1e99492-17ae-11eb-adc1-0242ac120002             Yes          Yes   \n",
       "\n",
       "     is_scroll_up is_scroll_down            timestamp  \n",
       "0              No            Yes  2020-09-14 09:59:07  \n",
       "1             Yes            Yes  2020-05-16 16:30:21  \n",
       "2             Yes             No  2020-02-09 00:52:13  \n",
       "3             Yes             No  2020-06-17 10:42:50  \n",
       "4             Yes            Yes  2020-07-06 02:51:53  \n",
       "...           ...            ...                  ...  \n",
       "2995           No             No  2020-05-05 23:08:24  \n",
       "2996          Yes            Yes  2020-06-12 19:23:21  \n",
       "2997           No            Yes  2020-09-07 17:10:58  \n",
       "2998           No             No  2020-02-18 19:48:48  \n",
       "2999           No            Yes  2020-04-15 17:33:44  \n",
       "\n",
       "[3000 rows x 12 columns]"
      ]
     },
     "execution_count": 21,
     "metadata": {},
     "output_type": "execute_result"
    }
   ],
   "source": [
    "clickstream.toPandas()"
   ]
  },
  {
   "cell_type": "markdown",
   "id": "53fae4f0",
   "metadata": {},
   "source": [
    "### Calculating the conversion ratio (total number of visits on 'Booking Page'/ total number of bookings done)"
   ]
  },
  {
   "cell_type": "code",
   "execution_count": 22,
   "id": "e96740fb",
   "metadata": {},
   "outputs": [],
   "source": [
    "# Booking page_id is e7bc5fb2-1231-11eb-adc1-0242ac120002\n",
    "\n",
    "total_booking_page_visits=clickstream.\\\n",
    "filter((col('page_id')==\"e7bc5fb2-1231-11eb-adc1-0242ac120002\") & (col('is_page_view')==\"Yes\")).count()"
   ]
  },
  {
   "cell_type": "code",
   "execution_count": 23,
   "id": "d66e8e65",
   "metadata": {},
   "outputs": [
    {
     "data": {
      "text/plain": [
       "513"
      ]
     },
     "execution_count": 23,
     "metadata": {},
     "output_type": "execute_result"
    }
   ],
   "source": [
    "total_booking_page_visits"
   ]
  },
  {
   "cell_type": "code",
   "execution_count": 24,
   "id": "8827a7d5",
   "metadata": {},
   "outputs": [],
   "source": [
    "# Book Now button_id is fcba68aa-1231-11eb-adc1-0242ac120002\n",
    "\n",
    "total_bookings=clickstream.\\\n",
    "filter((col('button_id')==\"fcba68aa-1231-11eb-adc1-0242ac120002\") & (col('is_button_click')==\"Yes\")).count()"
   ]
  },
  {
   "cell_type": "code",
   "execution_count": 25,
   "id": "63837394",
   "metadata": {},
   "outputs": [
    {
     "data": {
      "text/plain": [
       "497"
      ]
     },
     "execution_count": 25,
     "metadata": {},
     "output_type": "execute_result"
    }
   ],
   "source": [
    "total_bookings"
   ]
  },
  {
   "cell_type": "code",
   "execution_count": 26,
   "id": "95e60acf",
   "metadata": {},
   "outputs": [
    {
     "data": {
      "text/plain": [
       "0.9688109161793372"
      ]
     },
     "execution_count": 26,
     "metadata": {},
     "output_type": "execute_result"
    }
   ],
   "source": [
    "total_bookings/total_booking_page_visits"
   ]
  },
  {
   "cell_type": "markdown",
   "id": "c14b4ee4",
   "metadata": {},
   "source": [
    "##### As we can see from the above result that conversion ratio is 96.88% which is a very good percentage "
   ]
  },
  {
   "cell_type": "markdown",
   "id": "1159f68c",
   "metadata": {},
   "source": [
    "## Now we can do some more analysis on this data"
   ]
  },
  {
   "cell_type": "markdown",
   "id": "f5ef963e",
   "metadata": {},
   "source": [
    "### check how many user from different platform are viewing the Booking page"
   ]
  },
  {
   "cell_type": "code",
   "execution_count": 200,
   "id": "b2eca74e",
   "metadata": {},
   "outputs": [],
   "source": [
    "view_page=clickstream.filter((col('page_id')==\"e7bc5fb2-1231-11eb-adc1-0242ac120002\")).\\\n",
    "groupBy('OS_version','is_page_view').agg(count(col('is_page_view')).alias('page_visit_count')).sort('OS_version').toPandas()"
   ]
  },
  {
   "cell_type": "code",
   "execution_count": 201,
   "id": "3644d597",
   "metadata": {},
   "outputs": [
    {
     "data": {
      "text/html": [
       "<div>\n",
       "<style scoped>\n",
       "    .dataframe tbody tr th:only-of-type {\n",
       "        vertical-align: middle;\n",
       "    }\n",
       "\n",
       "    .dataframe tbody tr th {\n",
       "        vertical-align: top;\n",
       "    }\n",
       "\n",
       "    .dataframe thead th {\n",
       "        text-align: right;\n",
       "    }\n",
       "</style>\n",
       "<table border=\"1\" class=\"dataframe\">\n",
       "  <thead>\n",
       "    <tr style=\"text-align: right;\">\n",
       "      <th></th>\n",
       "      <th>OS_version</th>\n",
       "      <th>is_page_view</th>\n",
       "      <th>page_visit_count</th>\n",
       "    </tr>\n",
       "  </thead>\n",
       "  <tbody>\n",
       "    <tr>\n",
       "      <th>0</th>\n",
       "      <td>Android</td>\n",
       "      <td>No</td>\n",
       "      <td>240</td>\n",
       "    </tr>\n",
       "    <tr>\n",
       "      <th>1</th>\n",
       "      <td>Android</td>\n",
       "      <td>Yes</td>\n",
       "      <td>269</td>\n",
       "    </tr>\n",
       "    <tr>\n",
       "      <th>2</th>\n",
       "      <td>iOS</td>\n",
       "      <td>Yes</td>\n",
       "      <td>244</td>\n",
       "    </tr>\n",
       "    <tr>\n",
       "      <th>3</th>\n",
       "      <td>iOS</td>\n",
       "      <td>No</td>\n",
       "      <td>261</td>\n",
       "    </tr>\n",
       "  </tbody>\n",
       "</table>\n",
       "</div>"
      ],
      "text/plain": [
       "  OS_version is_page_view  page_visit_count\n",
       "0    Android           No               240\n",
       "1    Android          Yes               269\n",
       "2        iOS          Yes               244\n",
       "3        iOS           No               261"
      ]
     },
     "execution_count": 201,
     "metadata": {},
     "output_type": "execute_result"
    }
   ],
   "source": [
    "view_page"
   ]
  },
  {
   "cell_type": "code",
   "execution_count": 228,
   "id": "28ae4be2",
   "metadata": {},
   "outputs": [
    {
     "data": {
      "application/javascript": [
       "\n",
       "        if (window._pyforest_update_imports_cell) { window._pyforest_update_imports_cell('import matplotlib.pyplot as plt\\nimport seaborn as sns'); }\n",
       "    "
      ],
      "text/plain": [
       "<IPython.core.display.Javascript object>"
      ]
     },
     "metadata": {},
     "output_type": "display_data"
    },
    {
     "data": {
      "application/javascript": [
       "\n",
       "        if (window._pyforest_update_imports_cell) { window._pyforest_update_imports_cell('import matplotlib.pyplot as plt\\nimport seaborn as sns'); }\n",
       "    "
      ],
      "text/plain": [
       "<IPython.core.display.Javascript object>"
      ]
     },
     "metadata": {},
     "output_type": "display_data"
    },
    {
     "data": {
      "application/javascript": [
       "\n",
       "        if (window._pyforest_update_imports_cell) { window._pyforest_update_imports_cell('import matplotlib.pyplot as plt\\nimport seaborn as sns'); }\n",
       "    "
      ],
      "text/plain": [
       "<IPython.core.display.Javascript object>"
      ]
     },
     "metadata": {},
     "output_type": "display_data"
    },
    {
     "data": {
      "image/png": "[encoded data removed]",
      "text/plain": [
       "<Figure size 504x252 with 2 Axes>"
      ]
     },
     "metadata": {
      "needs_background": "light"
     },
     "output_type": "display_data"
    }
   ],
   "source": [
    "\n",
    "g=sns.FacetGrid(view_page,col='OS_version',height=3.5)\n",
    "g.map(plt.bar,'is_page_view','page_visit_count',edgecolor='black')\n",
    "\n",
    "plt.show()"
   ]
  },
  {
   "cell_type": "markdown",
   "id": "67c30b56",
   "metadata": {},
   "source": [
    "### check how many user from different platform are actually booking the rides"
   ]
  },
  {
   "cell_type": "code",
   "execution_count": 211,
   "id": "11d8e487",
   "metadata": {},
   "outputs": [],
   "source": [
    "rides_booked=clickstream.filter((col('button_id')==\"fcba68aa-1231-11eb-adc1-0242ac120002\")).\\\n",
    "groupBy('OS_version','is_button_click').agg(count(col('is_button_click')).alias('freq')).\\\n",
    "sort('OS_version','is_button_click').toPandas()"
   ]
  },
  {
   "cell_type": "code",
   "execution_count": 212,
   "id": "d7a01060",
   "metadata": {},
   "outputs": [
    {
     "data": {
      "text/html": [
       "<div>\n",
       "<style scoped>\n",
       "    .dataframe tbody tr th:only-of-type {\n",
       "        vertical-align: middle;\n",
       "    }\n",
       "\n",
       "    .dataframe tbody tr th {\n",
       "        vertical-align: top;\n",
       "    }\n",
       "\n",
       "    .dataframe thead th {\n",
       "        text-align: right;\n",
       "    }\n",
       "</style>\n",
       "<table border=\"1\" class=\"dataframe\">\n",
       "  <thead>\n",
       "    <tr style=\"text-align: right;\">\n",
       "      <th></th>\n",
       "      <th>OS_version</th>\n",
       "      <th>is_button_click</th>\n",
       "      <th>freq</th>\n",
       "    </tr>\n",
       "  </thead>\n",
       "  <tbody>\n",
       "    <tr>\n",
       "      <th>0</th>\n",
       "      <td>Android</td>\n",
       "      <td>No</td>\n",
       "      <td>253</td>\n",
       "    </tr>\n",
       "    <tr>\n",
       "      <th>1</th>\n",
       "      <td>Android</td>\n",
       "      <td>Yes</td>\n",
       "      <td>248</td>\n",
       "    </tr>\n",
       "    <tr>\n",
       "      <th>2</th>\n",
       "      <td>iOS</td>\n",
       "      <td>No</td>\n",
       "      <td>249</td>\n",
       "    </tr>\n",
       "    <tr>\n",
       "      <th>3</th>\n",
       "      <td>iOS</td>\n",
       "      <td>Yes</td>\n",
       "      <td>249</td>\n",
       "    </tr>\n",
       "  </tbody>\n",
       "</table>\n",
       "</div>"
      ],
      "text/plain": [
       "  OS_version is_button_click  freq\n",
       "0    Android              No   253\n",
       "1    Android             Yes   248\n",
       "2        iOS              No   249\n",
       "3        iOS             Yes   249"
      ]
     },
     "execution_count": 212,
     "metadata": {},
     "output_type": "execute_result"
    }
   ],
   "source": [
    "rides_booked"
   ]
  },
  {
   "cell_type": "code",
   "execution_count": 229,
   "id": "5800afdc",
   "metadata": {},
   "outputs": [
    {
     "data": {
      "application/javascript": [
       "\n",
       "        if (window._pyforest_update_imports_cell) { window._pyforest_update_imports_cell('import matplotlib.pyplot as plt\\nimport seaborn as sns'); }\n",
       "    "
      ],
      "text/plain": [
       "<IPython.core.display.Javascript object>"
      ]
     },
     "metadata": {},
     "output_type": "display_data"
    },
    {
     "data": {
      "application/javascript": [
       "\n",
       "        if (window._pyforest_update_imports_cell) { window._pyforest_update_imports_cell('import matplotlib.pyplot as plt\\nimport seaborn as sns'); }\n",
       "    "
      ],
      "text/plain": [
       "<IPython.core.display.Javascript object>"
      ]
     },
     "metadata": {},
     "output_type": "display_data"
    },
    {
     "data": {
      "application/javascript": [
       "\n",
       "        if (window._pyforest_update_imports_cell) { window._pyforest_update_imports_cell('import matplotlib.pyplot as plt\\nimport seaborn as sns'); }\n",
       "    "
      ],
      "text/plain": [
       "<IPython.core.display.Javascript object>"
      ]
     },
     "metadata": {},
     "output_type": "display_data"
    },
    {
     "data": {
      "image/png": "[encoded data removed]",
      "text/plain": [
       "<Figure size 504x252 with 2 Axes>"
      ]
     },
     "metadata": {
      "needs_background": "light"
     },
     "output_type": "display_data"
    }
   ],
   "source": [
    "g=sns.FacetGrid(rides_booked,col='OS_version',height=3.5)\n",
    "g.map(plt.bar,'is_button_click','freq',edgecolor='black')\n",
    "plt.show()"
   ]
  },
  {
   "cell_type": "code",
   "execution_count": 230,
   "id": "d5d6b1f9",
   "metadata": {},
   "outputs": [],
   "source": [
    "page_view=clickstream.filter(col('is_page_view')==\"Yes\").groupBy('page_id','is_page_view').\\\n",
    "agg(count(col('is_page_view')).alias('count')).toPandas()"
   ]
  },
  {
   "cell_type": "code",
   "execution_count": 231,
   "id": "2bd4d2e9",
   "metadata": {},
   "outputs": [
    {
     "data": {
      "text/html": [
       "<div>\n",
       "<style scoped>\n",
       "    .dataframe tbody tr th:only-of-type {\n",
       "        vertical-align: middle;\n",
       "    }\n",
       "\n",
       "    .dataframe tbody tr th {\n",
       "        vertical-align: top;\n",
       "    }\n",
       "\n",
       "    .dataframe thead th {\n",
       "        text-align: right;\n",
       "    }\n",
       "</style>\n",
       "<table border=\"1\" class=\"dataframe\">\n",
       "  <thead>\n",
       "    <tr style=\"text-align: right;\">\n",
       "      <th></th>\n",
       "      <th>page_id</th>\n",
       "      <th>is_page_view</th>\n",
       "      <th>count</th>\n",
       "    </tr>\n",
       "  </thead>\n",
       "  <tbody>\n",
       "    <tr>\n",
       "      <th>0</th>\n",
       "      <td>e7bc5fb2-1231-11eb-adc1-0242ac120002</td>\n",
       "      <td>Yes</td>\n",
       "      <td>513</td>\n",
       "    </tr>\n",
       "    <tr>\n",
       "      <th>1</th>\n",
       "      <td>b328829e-17ae-11eb-adc1-0242ac120002</td>\n",
       "      <td>Yes</td>\n",
       "      <td>479</td>\n",
       "    </tr>\n",
       "    <tr>\n",
       "      <th>2</th>\n",
       "      <td>de545711-3914-4450-8c11-b17b8dabb5e1</td>\n",
       "      <td>Yes</td>\n",
       "      <td>520</td>\n",
       "    </tr>\n",
       "  </tbody>\n",
       "</table>\n",
       "</div>"
      ],
      "text/plain": [
       "                                page_id is_page_view  count\n",
       "0  e7bc5fb2-1231-11eb-adc1-0242ac120002          Yes    513\n",
       "1  b328829e-17ae-11eb-adc1-0242ac120002          Yes    479\n",
       "2  de545711-3914-4450-8c11-b17b8dabb5e1          Yes    520"
      ]
     },
     "execution_count": 231,
     "metadata": {},
     "output_type": "execute_result"
    }
   ],
   "source": [
    "page_view"
   ]
  },
  {
   "cell_type": "code",
   "execution_count": 233,
   "id": "77fbdcd9",
   "metadata": {},
   "outputs": [
    {
     "data": {
      "application/javascript": [
       "\n",
       "        if (window._pyforest_update_imports_cell) { window._pyforest_update_imports_cell('import matplotlib.pyplot as plt\\nimport seaborn as sns'); }\n",
       "    "
      ],
      "text/plain": [
       "<IPython.core.display.Javascript object>"
      ]
     },
     "metadata": {},
     "output_type": "display_data"
    },
    {
     "data": {
      "application/javascript": [
       "\n",
       "        if (window._pyforest_update_imports_cell) { window._pyforest_update_imports_cell('import matplotlib.pyplot as plt\\nimport seaborn as sns'); }\n",
       "    "
      ],
      "text/plain": [
       "<IPython.core.display.Javascript object>"
      ]
     },
     "metadata": {},
     "output_type": "display_data"
    },
    {
     "data": {
      "application/javascript": [
       "\n",
       "        if (window._pyforest_update_imports_cell) { window._pyforest_update_imports_cell('import matplotlib.pyplot as plt\\nimport seaborn as sns'); }\n",
       "    "
      ],
      "text/plain": [
       "<IPython.core.display.Javascript object>"
      ]
     },
     "metadata": {},
     "output_type": "display_data"
    },
    {
     "data": {
      "application/javascript": [
       "\n",
       "        if (window._pyforest_update_imports_cell) { window._pyforest_update_imports_cell('import matplotlib.pyplot as plt\\nimport seaborn as sns'); }\n",
       "    "
      ],
      "text/plain": [
       "<IPython.core.display.Javascript object>"
      ]
     },
     "metadata": {},
     "output_type": "display_data"
    },
    {
     "data": {
      "application/javascript": [
       "\n",
       "        if (window._pyforest_update_imports_cell) { window._pyforest_update_imports_cell('import matplotlib.pyplot as plt\\nimport seaborn as sns'); }\n",
       "    "
      ],
      "text/plain": [
       "<IPython.core.display.Javascript object>"
      ]
     },
     "metadata": {},
     "output_type": "display_data"
    },
    {
     "data": {
      "text/plain": [
       "Text(0.5, 1.0, 'Number of Views per Page')"
      ]
     },
     "execution_count": 233,
     "metadata": {},
     "output_type": "execute_result"
    },
    {
     "data": {
      "image/png": "[encoded data removed]",
      "text/plain": [
       "<Figure size 720x360 with 1 Axes>"
      ]
     },
     "metadata": {
      "needs_background": "light"
     },
     "output_type": "display_data"
    }
   ],
   "source": [
    "fig, ax =plt.subplots(figsize=(10,5))\n",
    "plt.bar(['Booking Page','Review Page','Home Page'],page_view['count'],\\\n",
    "        width=0.3,edgecolor='black')\n",
    "plt.xlabel('Pages on APP',fontsize=12)\n",
    "plt.ylabel('Viewed',fontsize=12)\n",
    "plt.title('Number of Views per Page',fontsize=20)"
   ]
  }
 ],
 "metadata": {
  "kernelspec": {
   "display_name": "Python 3 (ipykernel)",
   "language": "python",
   "name": "python3"
  },
  "language_info": {
   "codemirror_mode": {
    "name": "ipython",
    "version": 3
   },
   "file_extension": ".py",
   "mimetype": "text/x-python",
   "name": "python",
   "nbconvert_exporter": "python",
   "pygments_lexer": "ipython3",
   "version": "3.8.10"
  }
 },
 "nbformat": 4,
 "nbformat_minor": 5
}
